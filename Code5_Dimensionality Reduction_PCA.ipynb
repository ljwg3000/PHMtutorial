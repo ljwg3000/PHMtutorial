{
 "cells": [
  {
   "cell_type": "markdown",
   "metadata": {},
   "source": [
    "## 라이브러리 import"
   ]
  },
  {
   "cell_type": "code",
   "execution_count": null,
   "metadata": {},
   "outputs": [],
   "source": [
    "import pandas as pd\n",
    "import numpy as np\n",
    "from sklearn.decomposition import PCA\n",
    "from sklearn.preprocessing import StandardScaler\n",
    "import matplotlib.pyplot as plt"
   ]
  },
  {
   "cell_type": "markdown",
   "metadata": {},
   "source": [
    "## 데이터 불러오기"
   ]
  },
  {
   "cell_type": "code",
   "execution_count": null,
   "metadata": {},
   "outputs": [],
   "source": [
    "# 특징값 데이터 불러와서 정상/고장 분리\n",
    "FeatureData = pd.read_csv('./SavedData/FeatureData', sep=',', header=None)\n",
    "\n",
    "Normal_Feature   = FeatureData.iloc[:,:100]\n",
    "Abnormal_Feature = FeatureData.iloc[:,100:]"
   ]
  },
  {
   "cell_type": "code",
   "execution_count": null,
   "metadata": {},
   "outputs": [],
   "source": [
    "# P value 순위 데이터 불러오기\n",
    "path = './SavedData/P_value_Rank'\n",
    "P_value_Rank = pd.read_csv(path, sep=',', header=None)"
   ]
  },
  {
   "cell_type": "markdown",
   "metadata": {},
   "source": [
    "## P value 기준 Feature 선정"
   ]
  },
  {
   "cell_type": "code",
   "execution_count": null,
   "metadata": {},
   "outputs": [],
   "source": [
    "# StartRank 부터 Number 만큼의 Feature\n",
    "StartRank = 361\n",
    "Number = 30\n",
    "\n",
    "NormalSelected   = np.zeros(shape=(Number,100))\n",
    "AbnormalSelected = np.zeros(shape=(Number,100))\n",
    "\n",
    "s = 0\n",
    "\n",
    "for i in range(StartRank, StartRank+Number):\n",
    "    \n",
    "    index                 = int(P_value_Rank.iloc[i-1,0])\n",
    "    NormalSelected[s,:]   = Normal_Feature.iloc[index,:].values\n",
    "    AbnormalSelected[s,:] = Abnormal_Feature.iloc[index,:].values\n",
    "    s += 1\n",
    "\n",
    "# 정상, 고장 특징값 합치기    \n",
    "FeatureSelected = np.transpose(pd.DataFrame(np.concatenate([NormalSelected, AbnormalSelected],axis=1)))\n",
    "FeatureSelected.shape"
   ]
  },
  {
   "cell_type": "markdown",
   "metadata": {},
   "source": [
    "## 데이터 정규화"
   ]
  },
  {
   "cell_type": "code",
   "execution_count": null,
   "metadata": {},
   "outputs": [],
   "source": [
    "# 선정된 특징데이터에 대한 정규화\n",
    "FeatureSelected_std = StandardScaler().fit_transform(FeatureSelected)\n",
    "show = pd.DataFrame(FeatureSelected_std)\n",
    "show"
   ]
  },
  {
   "cell_type": "markdown",
   "metadata": {},
   "source": [
    "## 선정된 Feature PCA"
   ]
  },
  {
   "cell_type": "code",
   "execution_count": null,
   "metadata": {},
   "outputs": [],
   "source": [
    "# 10개 PC(Principal Component) 추출\n",
    "pca = PCA(n_components = 10)\n",
    "PC = pca.fit_transform(FeatureSelected_std)\n",
    "\n",
    "# 설명된 분산의 비율\n",
    "VarRatio = pca.explained_variance_ratio_\n",
    "VarRatio = pd.DataFrame(np.round_(VarRatio,3))\n",
    "\n",
    "# 설명된 분산의 비율 누적\n",
    "CumVarRatio = np.cumsum(pca.explained_variance_ratio_)\n",
    "CumVarRatio_df = pd.DataFrame(np.round_(CumVarRatio,3))\n",
    "\n",
    "Result = pd.concat([VarRatio , CumVarRatio_df], axis=1)\n",
    "Result\n"
   ]
  },
  {
   "cell_type": "code",
   "execution_count": null,
   "metadata": {},
   "outputs": [],
   "source": [
    "# 누적값 그래프로 시각화\n",
    "plt.plot(range(1,11), CumVarRatio*100, color='green', linestyle='-', marker='o')\n",
    "plt.ylim(0,100)\n",
    "plt.xlim(0,10)\n",
    "plt.xlabel('PC Number')\n",
    "plt.ylabel('Percentage(%)')\n",
    "plt.show()"
   ]
  },
  {
   "cell_type": "markdown",
   "metadata": {},
   "source": [
    "## Low Rank Feature PCA 시각화"
   ]
  },
  {
   "cell_type": "code",
   "execution_count": null,
   "metadata": {},
   "outputs": [],
   "source": [
    "plt.plot(PC[:100,0], PC[:100,1], color='b', linestyle='', marker='o', label='Normal')\n",
    "plt.plot(PC[100:,0], PC[100:,1], color='r', linestyle='', marker='o', label='Abnormal')\n",
    "plt.legend()\n",
    "plt.xlabel('PC1')\n",
    "plt.ylabel('PC2')\n",
    "plt.show()"
   ]
  }
 ],
 "metadata": {
  "kernelspec": {
   "display_name": "Python 3",
   "language": "python",
   "name": "python3"
  },
  "language_info": {
   "codemirror_mode": {
    "name": "ipython",
    "version": 3
   },
   "file_extension": ".py",
   "mimetype": "text/x-python",
   "name": "python",
   "nbconvert_exporter": "python",
   "pygments_lexer": "ipython3",
   "version": "3.6.5"
  }
 },
 "nbformat": 4,
 "nbformat_minor": 2
}
