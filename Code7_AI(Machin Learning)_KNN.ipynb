{
 "cells": [
  {
   "cell_type": "markdown",
   "metadata": {},
   "source": [
    "## 라이브러리 import"
   ]
  },
  {
   "cell_type": "code",
   "execution_count": null,
   "metadata": {},
   "outputs": [],
   "source": [
    "import pandas as pd\n",
    "import numpy as np\n",
    "import sklearn as sk\n",
    "import pickle\n",
    "from sklearn.neighbors import KNeighborsClassifier\n",
    "from sklearn.externals import joblib"
   ]
  },
  {
   "cell_type": "markdown",
   "metadata": {},
   "source": [
    "## 데이터 불러오기"
   ]
  },
  {
   "cell_type": "code",
   "execution_count": null,
   "metadata": {},
   "outputs": [],
   "source": [
    "Fold = 5\n",
    "\n",
    "# k-fold 데이터\n",
    "for i in range(Fold):\n",
    "    \n",
    "    j = i+1\n",
    "    path1 = './SavedData/Training_Fold%d'%j\n",
    "    path2 = './SavedData/Validation_Fold%d'%j\n",
    "    c1 = 'Training_%d = np.array(pd.read_csv(path1, sep = \",\", header = None))'%j\n",
    "    c2 = 'Validation_%d = np.array(pd.read_csv(path2, sep = \",\", header = None))'%j\n",
    "    exec(c1)\n",
    "    exec(c2)\n",
    "\n",
    "# 전체 학습용 데이터\n",
    "Training_TotalData = np.array(pd.read_csv('./SavedData/Training_TotalData', sep = \",\", header = None))\n",
    "Training_TotalLabel = np.array(pd.read_csv('./SavedData/Training_TotalLabel', sep = \",\", header = None))"
   ]
  },
  {
   "cell_type": "markdown",
   "metadata": {},
   "source": [
    "## 데이터 라벨링"
   ]
  },
  {
   "cell_type": "code",
   "execution_count": null,
   "metadata": {},
   "outputs": [],
   "source": [
    "DataNo = 100\n",
    "\n",
    "Training_Label_size = int((DataNo - DataNo/Fold))\n",
    "Validation_Label_size = int((DataNo/Fold))\n",
    "\n",
    "print(Training_Label_size)\n",
    "print(Validation_Label_size)\n"
   ]
  },
  {
   "cell_type": "code",
   "execution_count": null,
   "metadata": {},
   "outputs": [],
   "source": [
    "Training_Label_knn = np.zeros(shape=2*Training_Label_size)\n",
    "Validation_Label_knn = np.zeros(shape=2*Validation_Label_size)\n",
    "\n",
    "# Training Label\n",
    "Training_Label_knn[:Training_Label_size] = 0\n",
    "Training_Label_knn[Training_Label_size:] = 1\n",
    "\n",
    "# Validation Label\n",
    "Validation_Label_knn[:Validation_Label_size] = 0\n",
    "Validation_Label_knn[Validation_Label_size:] = 1\n",
    "\n",
    "# 전체 학습용 데이터 라벨\n",
    "Training_TotalLabel_knn = np.zeros(shape=DataNo*2)\n",
    "\n",
    "Training_TotalLabel_knn[:DataNo] = 0\n",
    "Training_TotalLabel_knn[DataNo:] = 1\n",
    "\n",
    "Validation_Label_knn"
   ]
  },
  {
   "cell_type": "markdown",
   "metadata": {},
   "source": [
    "## KNN(K-Nearest-Neighbor) 기반 모델링 및 성능평가"
   ]
  },
  {
   "cell_type": "code",
   "execution_count": null,
   "metadata": {},
   "outputs": [],
   "source": [
    "Add    = 0\n",
    "Divide = 0\n",
    "\n",
    "for i in np.arange(Fold):\n",
    "    c1 = 'Temp_train = Training_%d'%(i+1)\n",
    "    exec(c1)\n",
    "    c2 = 'Temp_val = Validation_%d'%(i+1)\n",
    "    exec(c2)    \n",
    "\n",
    "    knn = KNeighborsClassifier(n_neighbors = 3).fit(Temp_train,Training_Label_knn)\n",
    "    \n",
    "    c3 = 'knnscore_%d = knn.score(Temp_val, Validation_Label_knn)'%(i+1)\n",
    "    exec(c3)\n",
    "        \n",
    "    Add += knn.score(Temp_val, Validation_Label_knn)\n",
    "    Divide += 1\n",
    "    \n",
    "Avg_accuracy = Add/Divide\n",
    "\n",
    "print(' Fold 1: {:.2f}% \\n Fold 2: {:.2f}% \\n Fold 3: {:.2f}% \\n Fold 4: {:.2f}% \\n Fold 5: {:.2f}%'.\n",
    "        format(knnscore_1*100, knnscore_2*100, knnscore_3*100, knnscore_4*100, knnscore_5*100))\n",
    "print('\\n Average accuracy: {:.2f}%'.format(Avg_accuracy*100))"
   ]
  },
  {
   "cell_type": "markdown",
   "metadata": {},
   "source": [
    "## KNN model 모델 생성(전체 데이터) 및 저장"
   ]
  },
  {
   "cell_type": "code",
   "execution_count": null,
   "metadata": {},
   "outputs": [],
   "source": [
    "KNN_model = KNeighborsClassifier(n_neighbors = 2).fit(Training_TotalData,Training_TotalLabel_knn)\n",
    "\n",
    "joblib.dump(KNN_model, './AI Model/KNN_model.plk')"
   ]
  },
  {
   "cell_type": "markdown",
   "metadata": {},
   "source": [
    "## KNN model 불러와서 진단"
   ]
  },
  {
   "cell_type": "code",
   "execution_count": null,
   "metadata": {},
   "outputs": [],
   "source": [
    "KNN_model_from_joblib = joblib.load('./AI Model/KNN_model.plk')\n",
    "Prediction = KNN_model_from_joblib.predict(Validation_3)\n",
    "Diagnosis_Result = pd.DataFrame(Prediction)\n",
    "Diagnosis_Result\n"
   ]
  }
 ],
 "metadata": {
  "kernelspec": {
   "display_name": "Python 3",
   "language": "python",
   "name": "python3"
  },
  "language_info": {
   "codemirror_mode": {
    "name": "ipython",
    "version": 3
   },
   "file_extension": ".py",
   "mimetype": "text/x-python",
   "name": "python",
   "nbconvert_exporter": "python",
   "pygments_lexer": "ipython3",
   "version": "3.6.5"
  }
 },
 "nbformat": 4,
 "nbformat_minor": 2
}
