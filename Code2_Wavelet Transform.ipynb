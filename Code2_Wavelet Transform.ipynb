{
 "cells": [
  {
   "cell_type": "markdown",
   "metadata": {},
   "source": [
    "## 라이브러리 import"
   ]
  },
  {
   "cell_type": "code",
   "execution_count": null,
   "metadata": {},
   "outputs": [],
   "source": [
    "import numpy       as np\n",
    "import pandas      as pd\n",
    "import matplotlib.pyplot as plt\n",
    "import pywt"
   ]
  },
  {
   "cell_type": "markdown",
   "metadata": {},
   "source": [
    "## 데이터 불러오기"
   ]
  },
  {
   "cell_type": "code",
   "execution_count": null,
   "metadata": {},
   "outputs": [],
   "source": [
    "Data = pd.read_csv('./ExampleData', sep=',', header=None)\n",
    "Data.shape"
   ]
  },
  {
   "cell_type": "markdown",
   "metadata": {},
   "source": [
    "## Wavelet Transform 수행"
   ]
  },
  {
   "cell_type": "markdown",
   "metadata": {},
   "source": [
    "Wavelet Transfrom 실행 위한 파라미터 설정"
   ]
  },
  {
   "cell_type": "code",
   "execution_count": null,
   "metadata": {},
   "outputs": [],
   "source": [
    "MotherWavelet = pywt.Wavelet('db4')\n",
    "Level  = 12"
   ]
  },
  {
   "cell_type": "markdown",
   "metadata": {},
   "source": [
    "Wavelet Transform 실행 : Coefficient 생성"
   ]
  },
  {
   "cell_type": "code",
   "execution_count": null,
   "metadata": {},
   "outputs": [],
   "source": [
    "Coefficient = pywt.wavedec(Data.iloc[:,1], MotherWavelet, level=Level, axis=0)\n",
    "Coeff = pd.DataFrame(Coefficient)\n",
    "Coeff"
   ]
  },
  {
   "cell_type": "markdown",
   "metadata": {},
   "source": [
    "Coefficent (d1~d12) 데이터 사이즈 확인"
   ]
  },
  {
   "cell_type": "code",
   "execution_count": null,
   "metadata": {},
   "outputs": [],
   "source": [
    "for i in range(1,13):\n",
    "    print('Size of d',13-i , ' = ', len(Coefficient[i]))\n",
    "    "
   ]
  },
  {
   "cell_type": "markdown",
   "metadata": {},
   "source": [
    "### Wavelet Transfrom 결과 그래프 확인"
   ]
  },
  {
   "cell_type": "code",
   "execution_count": null,
   "metadata": {},
   "outputs": [],
   "source": [
    "plt.figure(figsize=(15,20))\n",
    "\n",
    "#plt.subplot(12,1,1)\n",
    "#plt.plot(np.arange(len(Coefficient[0]))+1, Coefficient[0])\n",
    "\n",
    "#plt.subplot(12,1,2)\n",
    "#plt.plot(np.arange(len(Coefficient[1]))+1, Coefficient[1])\n",
    "\n",
    "for k in range(1,13):\n",
    "    plt.subplot(13,1,k)\n",
    "    plt.plot(np.arange(len(Coefficient[k]))+1, Coefficient[k])\n",
    "    plt.ylabel('d %d'%(13-k))\n",
    "    \n",
    "plt.subplot(13,1,13)\n",
    "plt.plot(Data.iloc[:,0] , Data.iloc[:,1])\n",
    "plt.ylabel('Raw data')\n",
    "plt.show\n"
   ]
  }
 ],
 "metadata": {
  "kernelspec": {
   "display_name": "Python 3",
   "language": "python",
   "name": "python3"
  },
  "language_info": {
   "codemirror_mode": {
    "name": "ipython",
    "version": 3
   },
   "file_extension": ".py",
   "mimetype": "text/x-python",
   "name": "python",
   "nbconvert_exporter": "python",
   "pygments_lexer": "ipython3",
   "version": "3.6.5"
  }
 },
 "nbformat": 4,
 "nbformat_minor": 2
}
