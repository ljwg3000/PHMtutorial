{
 "cells": [
  {
   "cell_type": "markdown",
   "metadata": {},
   "source": [
    "## 라이브러리 import"
   ]
  },
  {
   "cell_type": "code",
   "execution_count": null,
   "metadata": {},
   "outputs": [],
   "source": [
    "import pandas as pd\n",
    "import numpy as np\n",
    "import matplotlib.pyplot as plt"
   ]
  },
  {
   "cell_type": "markdown",
   "metadata": {},
   "source": [
    "## 데이터 불러오기"
   ]
  },
  {
   "cell_type": "code",
   "execution_count": null,
   "metadata": {},
   "outputs": [],
   "source": [
    "FeatureSelected = pd.read_csv('./SavedData/FeatureSelected', sep=',', header=None)\n",
    "FeatureSelected.shape"
   ]
  },
  {
   "cell_type": "markdown",
   "metadata": {},
   "source": [
    "## Data Segmentation"
   ]
  },
  {
   "cell_type": "code",
   "execution_count": null,
   "metadata": {},
   "outputs": [],
   "source": [
    "DataNo =100   # 데이터 개수\n",
    "Fold = 5      # Fold 개수 선정 : 데이터의 약수여야 함.\n",
    "\n",
    "FeatNo = int(np.size(FeatureSelected,0)/2)  # 선택한 Feature 개수\n",
    "FoldDataNo = int(DataNo/Fold)            # Fold 당 데이터 개수\n",
    "print(FeatNo)\n",
    "print(FoldDataNo)"
   ]
  },
  {
   "cell_type": "code",
   "execution_count": null,
   "metadata": {},
   "outputs": [],
   "source": [
    "# Validation Data set\n",
    "for i in range(FoldDataNo):\n",
    "        \n",
    "    temp_Valid = pd.DataFrame(np.transpose(np.concatenate((FeatureSelected.iloc[:FeatNo , FoldDataNo*i:FoldDataNo*(i+1)],\n",
    "                         FeatureSelected.iloc[FeatNo:, FoldDataNo*i:FoldDataNo*(i+1)]),axis=1)))\n",
    "    \n",
    "    s = 'Validation_%d = temp_Valid'%(i+1)\n",
    "    exec(s)\n",
    "\n",
    "    \n",
    "# Training Data set\n",
    "for i in range(FoldDataNo):\n",
    "    \n",
    "    temp_Train_Front = FeatureSelected.iloc[:,:FoldDataNo*i]\n",
    "    temp_Train_Back  = FeatureSelected.iloc[:,FoldDataNo*(i+1):]\n",
    "    temp_Train_Total = np.concatenate((temp_Train_Front , temp_Train_Back),axis=1)\n",
    "    temp_Train_Final = pd.DataFrame(np.transpose(np.concatenate((temp_Train_Total[:FeatNo,:],temp_Train_Total[FeatNo:,:]),axis=1)))\n",
    "    \n",
    "    s ='Training_%d  = temp_Train_Final'%(i+1)\n",
    "    exec(s)\n"
   ]
  },
  {
   "cell_type": "code",
   "execution_count": null,
   "metadata": {},
   "outputs": [],
   "source": [
    "Validation_1.shape"
   ]
  },
  {
   "cell_type": "code",
   "execution_count": null,
   "metadata": {},
   "outputs": [],
   "source": [
    "Training_1.shape"
   ]
  },
  {
   "cell_type": "markdown",
   "metadata": {},
   "source": [
    "## Data Labeling"
   ]
  },
  {
   "cell_type": "code",
   "execution_count": null,
   "metadata": {},
   "outputs": [],
   "source": [
    "LabelNo_Tr = np.size(Training_1, 0)\n",
    "LabelNo_Va = np.size(Validation_1, 0)\n",
    "\n",
    "Training_Label   = np.zeros(shape=(LabelNo_Tr,2))\n",
    "Validation_Label = np.zeros(shape=(LabelNo_Va,2))\n",
    "\n",
    "Training_Label[:int(LabelNo_Tr/2),0] = 1\n",
    "Training_Label[int(LabelNo_Tr/2):,1] = 1\n",
    "\n",
    "Validation_Label[:int(LabelNo_Va/2),0] = 1\n",
    "Validation_Label[int(LabelNo_Va/2):,1] = 1\n",
    "\n",
    "Training_Label = pd.DataFrame(Training_Label)\n",
    "Validation_Label = pd.DataFrame(Validation_Label)\n",
    "\n",
    "Training_Label"
   ]
  },
  {
   "cell_type": "markdown",
   "metadata": {},
   "source": [
    "## k-fold 데이터 및 라벨 저장"
   ]
  },
  {
   "cell_type": "code",
   "execution_count": null,
   "metadata": {
    "scrolled": true
   },
   "outputs": [],
   "source": [
    "# k-fold 데이터 저장\n",
    "for i in range(Fold):\n",
    "    \n",
    "    path1 = './SavedData//Training_Fold%d'%(i+1)\n",
    "    path2 = './SavedData//Validation_Fold%d'%(i+1)\n",
    "    \n",
    "    c1 = 'Training_%d.to_csv(path1, sep = \",\", header = None, index = None)'%(i+1)\n",
    "    c2 = 'Validation_%d.to_csv(path2, sep = \",\", header = None, index = None)'%(i+1)\n",
    "    exec(c1)\n",
    "    exec(c2)\n",
    "\n",
    "# Label data 저장\n",
    "Training_Label.to_csv('./SavedData//Training_Label', sep = \",\", header = None, index = None)\n",
    "Validation_Label.to_csv('./SavedData//Validation_Label', sep = \",\", header = None, index = None)"
   ]
  },
  {
   "cell_type": "markdown",
   "metadata": {},
   "source": [
    "## 학습용 전체 데이터 및 라벨 저장"
   ]
  },
  {
   "cell_type": "code",
   "execution_count": null,
   "metadata": {},
   "outputs": [],
   "source": [
    "# 학습용 데이터 생성\n",
    "Training_TotalData = np.concatenate((np.array(FeatureSelected.iloc[:30,:]), np.array(FeatureSelected.iloc[30:,:])),axis=1)\n",
    "Training_TotalData = pd.DataFrame(np.transpose(np.array(Training_TotalData)))\n",
    "\n",
    "# 학습용 데이터 저장\n",
    "Training_TotalData.to_csv('./SavedData//Training_TotalData', \n",
    "                          sep = \",\", header = None, index = None)\n",
    "\n",
    "Training_TotalData.shape"
   ]
  },
  {
   "cell_type": "code",
   "execution_count": null,
   "metadata": {},
   "outputs": [],
   "source": [
    "# 학습용 라벨 생성\n",
    "Training_TotalLabel = np.zeros(shape=(DataNo*2,2))\n",
    "\n",
    "Training_TotalLabel[:DataNo,0] = 1\n",
    "Training_TotalLabel[DataNo:,1] = 1\n",
    "\n",
    "# 학습용 라벨 저장\n",
    "pd.DataFrame(Training_TotalLabel).to_csv('./SavedData//Training_TotalLabel', \n",
    "                           sep = \",\", header = None, index = None)"
   ]
  }
 ],
 "metadata": {
  "kernelspec": {
   "display_name": "Python 3",
   "language": "python",
   "name": "python3"
  },
  "language_info": {
   "codemirror_mode": {
    "name": "ipython",
    "version": 3
   },
   "file_extension": ".py",
   "mimetype": "text/x-python",
   "name": "python",
   "nbconvert_exporter": "python",
   "pygments_lexer": "ipython3",
   "version": "3.6.5"
  }
 },
 "nbformat": 4,
 "nbformat_minor": 2
}
