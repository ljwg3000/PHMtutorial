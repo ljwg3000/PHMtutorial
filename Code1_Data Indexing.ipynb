{
 "cells": [
  {
   "cell_type": "markdown",
   "metadata": {},
   "source": [
    "## 라이브러리 import"
   ]
  },
  {
   "cell_type": "code",
   "execution_count": null,
   "metadata": {},
   "outputs": [],
   "source": [
    "# 데이터프레임, 행렬, 그래프 그리기 위한 라이브러리\n",
    "import pandas as pd\n",
    "import numpy as np\n",
    "import matplotlib.pyplot as plt"
   ]
  },
  {
   "cell_type": "markdown",
   "metadata": {},
   "source": [
    "## 데이터 불러오기"
   ]
  },
  {
   "cell_type": "code",
   "execution_count": null,
   "metadata": {
    "scrolled": true
   },
   "outputs": [],
   "source": [
    "# 현재폴더 데이터 불러오기\n",
    "\n",
    "ExampleData = pd.read_csv('./ExampleData', sep=',', header=None)\n",
    "#ExampleData"
   ]
  },
  {
   "cell_type": "code",
   "execution_count": null,
   "metadata": {
    "scrolled": true
   },
   "outputs": [],
   "source": [
    "# 하위폴더 데이터 불러오기\n",
    "\n",
    "path = './Subfolder/ExampleData2' # 파일 경로\n",
    "ExampleData2 = pd.read_csv(path, sep=',',names=['time', 'Radial-ACC', 'Axial-ACC', 'AE'])\n",
    "#ExampleData2.head(10)\n"
   ]
  },
  {
   "cell_type": "markdown",
   "metadata": {},
   "source": [
    "## 데이터 인덱싱 (Indexing)"
   ]
  },
  {
   "cell_type": "code",
   "execution_count": null,
   "metadata": {},
   "outputs": [],
   "source": [
    "# 시간열(time column) 제거한 센서 데이터 추출방법 1\n",
    "\n",
    "SensorDataOnly = ExampleData.iloc[:,1:]\n"
   ]
  },
  {
   "cell_type": "code",
   "execution_count": null,
   "metadata": {
    "scrolled": true
   },
   "outputs": [],
   "source": [
    "# 시간열(time column) 제거한 센서 데이터 추출방법 2\n",
    "\n",
    "Data = ExampleData.drop(0, axis=1)\n"
   ]
  },
  {
   "cell_type": "code",
   "execution_count": null,
   "metadata": {
    "scrolled": true
   },
   "outputs": [],
   "source": [
    "# 데이터에 열 추가하기 (행 개수가 일치해야함)\n",
    "\n",
    "Data = pd.concat([pd.DataFrame(np.arange(0,20,1/12800)),Data], axis=1)\n"
   ]
  },
  {
   "cell_type": "code",
   "execution_count": null,
   "metadata": {
    "scrolled": true
   },
   "outputs": [],
   "source": [
    "# 5초부터 7초까지 해당하는 데이터 추출\n",
    "\n",
    "StartPoint = np.where(ExampleData.iloc[:,0].values == 5)[0][0]\n",
    "EndPoint   = np.where(ExampleData.iloc[:,0].values == 7)[0][0]\n",
    "NewData    = ExampleData.iloc[StartPoint:EndPoint, :]\n"
   ]
  },
  {
   "cell_type": "code",
   "execution_count": null,
   "metadata": {
    "scrolled": true
   },
   "outputs": [],
   "source": [
    "# 데이터 행렬바꾸기\n",
    "\n",
    "Data = np.transpose(Data)\n"
   ]
  },
  {
   "cell_type": "markdown",
   "metadata": {},
   "source": [
    "## 데이터 그래프 그리기"
   ]
  },
  {
   "cell_type": "code",
   "execution_count": null,
   "metadata": {
    "scrolled": true
   },
   "outputs": [],
   "source": [
    "# 그리드, 라벨, 제목, 범례 표시 등\n",
    "\n",
    "plt.plot(ExampleData.iloc[:,0], ExampleData.iloc[:,1])\n",
    "plt.grid()                                                     # 그리드 표시\n",
    "plt.xlabel('time(s)')                                          # x 라벨 표시\n",
    "plt.ylabel('Acceleration(g)')                                  # y 라벨 표시\n",
    "plt.title('Robot Acceleration Data')                           # 제목 표시\n",
    "plt.legend(['Acc_Radial'], loc = 'upper right', fontsize=10)   # 범례 표시\n",
    "plt.xlim(0,20) # x축 범위 설정\n",
    "plt.ylim(-0.06,0.06) # y축 범위 설정\n",
    "plt.show()\n"
   ]
  },
  {
   "cell_type": "code",
   "execution_count": null,
   "metadata": {},
   "outputs": [],
   "source": [
    "#그래프 모양 변경 등\n",
    "\n",
    "plt.figure(figsize = (12,9))\n",
    "plt.plot(ExampleData.iloc[:1000,0],\n",
    "         ExampleData.iloc[:1000,1], \n",
    "         linestyle       = '-.', \n",
    "         linewidth       = 2.0, \n",
    "         color           = 'b',           \n",
    "         marker          = 'o', \n",
    "         markersize      = 8, \n",
    "         markeredgecolor = 'g', \n",
    "         markeredgewidth = 1.5, \n",
    "         markerfacecolor = 'r', \n",
    "         alpha           = 0.6)\n",
    "\n",
    "plt.grid()\n",
    "plt.xlabel('time(s)') \n",
    "plt.ylabel('Acceleration(g)')\n",
    "plt.title('Robot Acceleration Data') \n",
    "plt.legend(['Acc_Radial'], loc = 'upper right', fontsize=10)"
   ]
  },
  {
   "cell_type": "code",
   "execution_count": null,
   "metadata": {},
   "outputs": [],
   "source": [
    "# 그래프 겹쳐서 그리기\n",
    "\n",
    "plt.plot(ExampleData.iloc[:1000,0],Data.iloc[:1000,1])\n",
    "plt.plot(ExampleData.iloc[:1000,0],Data.iloc[:1000,2])\n",
    "plt.xlabel('time(s)')\n",
    "plt.ylabel('Acceleration(g)')\n",
    "plt.title('Robot Acceleration Data(Radial, Axial)')\n",
    "plt.legend(['Acc_Radial', 'Acc_Axial'], loc = 'upper right', fontsize=10)\n",
    "plt.xlim(0,1000/12800) # x축 범위 설정\n",
    "plt.ylim(-0.03,0.03)   # y축 범위 설정\n",
    "plt.grid()\n",
    "plt.show()"
   ]
  },
  {
   "cell_type": "markdown",
   "metadata": {},
   "source": [
    "## 대표값 추출하기"
   ]
  },
  {
   "cell_type": "code",
   "execution_count": null,
   "metadata": {},
   "outputs": [],
   "source": [
    "def rms(y): #rms 함수 정의\n",
    "    return np.sqrt(np.mean(y**2))"
   ]
  },
  {
   "cell_type": "code",
   "execution_count": null,
   "metadata": {},
   "outputs": [],
   "source": [
    "Max  = np.max(ExampleData.iloc[:,1])\n",
    "Min  = np.min(ExampleData.iloc[:,1])\n",
    "RMS  = rms(ExampleData.iloc[:,1])\n",
    "Var  = np.var(ExampleData.iloc[:,1])\n",
    "Std  = np.std(ExampleData.iloc[:,1])\n",
    "Mean = np.mean(ExampleData.iloc[:,1])"
   ]
  },
  {
   "cell_type": "code",
   "execution_count": null,
   "metadata": {},
   "outputs": [],
   "source": [
    "# for 구문 이용하여 각센서 대표값 추출하기\n",
    "\n",
    "Rep_Values = np.zeros(shape=(6,ExampleData.shape[1]-1))\n",
    "for i in range(1,ExampleData.shape[1]):\n",
    "    \n",
    "    Rep_Values[0,i-1] = np.max(ExampleData.iloc[:,i])\n",
    "    Rep_Values[1,i-1] = np.min(ExampleData.iloc[:,i])\n",
    "    Rep_Values[2,i-1] = rms(ExampleData.iloc[:,i])\n",
    "    Rep_Values[3,i-1] = np.var(ExampleData.iloc[:,i])\n",
    "    Rep_Values[4,i-1] = np.std(ExampleData.iloc[:,i])\n",
    "    Rep_Values[5,i-1] = np.mean(ExampleData.iloc[:,i])\n",
    "    "
   ]
  },
  {
   "cell_type": "code",
   "execution_count": null,
   "metadata": {},
   "outputs": [],
   "source": [
    "# for 구문 이용하여 각센서 데이터의 1초마다 RMS값 변화 확인\n",
    "\n",
    "Rep_Values_RMS = np.zeros(shape=(20,ExampleData.shape[1]-1))\n",
    "for i in range(1,ExampleData.shape[1]):\n",
    "    for j in range(20):\n",
    "        \n",
    "        Rep_Values_RMS[j,i-1] = rms(ExampleData.iloc[12800*(j):12800*(j+1),i])\n",
    "        \n",
    "\n",
    "plt.plot(range(20), Rep_Values_RMS[:,0], 'o--', markersize = 5, mfc = 'b', mec = 'b')\n",
    "plt.plot(range(20), Rep_Values_RMS[:,1], 'o--', markersize = 5, mfc = 'r', mec = 'r')\n",
    "plt.grid()\n",
    "plt.xlabel('time(s)')\n",
    "plt.ylabel('RMS(g)')\n",
    "plt.show()\n"
   ]
  }
 ],
 "metadata": {
  "kernelspec": {
   "display_name": "Python 3",
   "language": "python",
   "name": "python3"
  },
  "language_info": {
   "codemirror_mode": {
    "name": "ipython",
    "version": 3
   },
   "file_extension": ".py",
   "mimetype": "text/x-python",
   "name": "python",
   "nbconvert_exporter": "python",
   "pygments_lexer": "ipython3",
   "version": "3.6.5"
  }
 },
 "nbformat": 4,
 "nbformat_minor": 2
}
