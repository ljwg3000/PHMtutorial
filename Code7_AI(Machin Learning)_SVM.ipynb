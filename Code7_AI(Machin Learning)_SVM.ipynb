{
 "cells": [
  {
   "cell_type": "markdown",
   "metadata": {},
   "source": [
    "## 라이브러리 import"
   ]
  },
  {
   "cell_type": "code",
   "execution_count": null,
   "metadata": {},
   "outputs": [],
   "source": [
    "import pandas as pd\n",
    "import numpy as np\n",
    "import pickle\n",
    "from sklearn import svm,metrics\n",
    "from sklearn.externals import joblib"
   ]
  },
  {
   "cell_type": "markdown",
   "metadata": {},
   "source": [
    "## 데이터 불러오기"
   ]
  },
  {
   "cell_type": "code",
   "execution_count": null,
   "metadata": {},
   "outputs": [],
   "source": [
    "Fold = 5\n",
    "\n",
    "# k-fold 데이터\n",
    "for i in range(Fold):\n",
    "    \n",
    "    j = i+1\n",
    "    path1 = './SavedData/Training_Fold%d'%j\n",
    "    path2 = './SavedData/Validation_Fold%d'%j\n",
    "    c1 = 'Training_%d = np.array(pd.read_csv(path1, sep = \",\", header = None))'%j\n",
    "    c2 = 'Validation_%d = np.array(pd.read_csv(path2, sep = \",\", header = None))'%j\n",
    "    exec(c1)\n",
    "    exec(c2)\n",
    "\n",
    "\n",
    "# 전체 학습용 데이터\n",
    "Training_TotalData = np.array(pd.read_csv('./SavedData/Training_TotalData', sep = \",\", header = None))\n",
    "Training_TotalLabel = np.array(pd.read_csv('./SavedData/Training_TotalLabel', sep = \",\", header = None))"
   ]
  },
  {
   "cell_type": "markdown",
   "metadata": {},
   "source": [
    "## Support Vector Machine 라벨링"
   ]
  },
  {
   "cell_type": "code",
   "execution_count": null,
   "metadata": {},
   "outputs": [],
   "source": [
    "DataNo = 100\n",
    "\n",
    "Training_Label_size = int((DataNo-DataNo/Fold))\n",
    "Validation_Label_size = int((DataNo/Fold))\n",
    "\n",
    "Training_Label_svm = np.zeros(shape=2*Training_Label_size)\n",
    "Validation_Label_svm = np.zeros(shape=2*Validation_Label_size)\n",
    "\n",
    "# Training Label\n",
    "Training_Label_svm[:Training_Label_size] = 0\n",
    "Training_Label_svm[Training_Label_size:] = 1\n",
    "\n",
    "# Validation Label\n",
    "Validation_Label_svm[:Validation_Label_size] = 0\n",
    "Validation_Label_svm[Validation_Label_size:] = 1\n",
    "\n",
    "# 전체 학습용 데이터 라벨\n",
    "Training_TotalLabel_svm = np.zeros(shape=DataNo*2)\n",
    "\n",
    "Training_TotalLabel_svm[:DataNo] = 0\n",
    "Training_TotalLabel_svm[DataNo:] = 1"
   ]
  },
  {
   "cell_type": "markdown",
   "metadata": {},
   "source": [
    "## SVM(Support Vector Machine) 기반 모델링 및 성능평가"
   ]
  },
  {
   "cell_type": "code",
   "execution_count": null,
   "metadata": {},
   "outputs": [],
   "source": [
    "Add = 0\n",
    "Divide = 0\n",
    "\n",
    "for i in np.arange(Fold):\n",
    "    c1 = 'Temp_train = Training_%d'%(i+1)\n",
    "    exec(c1)\n",
    "    c2 = 'Temp_val = Validation_%d'%(i+1)\n",
    "    exec(c2)    \n",
    "\n",
    "    svmModel = svm.SVC(kernel='linear')\n",
    "    svmModel.fit(Temp_train, Training_Label_svm)\n",
    "    Predicted = np.array(svmModel.predict(Temp_val))\n",
    "    c3 = 'svmscore_%d = metrics.accuracy_score(Validation_Label_svm,Predicted)'%(i+1)\n",
    "    exec(c3)\n",
    "        \n",
    "    Add += metrics.accuracy_score(Validation_Label_svm,Predicted)\n",
    "    Divide += 1\n",
    "    \n",
    "Avg_accuracy = Add/Divide\n",
    "\n",
    "print(' Fold 1: {:.5f} \\n Fold 2: {:.5f} \\n Fold 3: {:.5f} \\n Fold 4: {:.5f} \\n Fold 5: {:.5f}'\n",
    "      .format(svmscore_1, svmscore_2, svmscore_3, svmscore_4, svmscore_5))\n",
    "print('\\n Average accuracy: {:.5f}'.format(Avg_accuracy))"
   ]
  },
  {
   "cell_type": "markdown",
   "metadata": {},
   "source": [
    "## SVM model 모델 생성(전체 데이터) 및 저장"
   ]
  },
  {
   "cell_type": "code",
   "execution_count": null,
   "metadata": {},
   "outputs": [],
   "source": [
    "SVM_model = svm.SVC(kernel='linear')\n",
    "SVM_model.fit(Training_TotalData, Training_TotalLabel_svm)\n",
    "\n",
    "joblib.dump(SVM_model, './AI Model/SVM_model.plk')"
   ]
  },
  {
   "cell_type": "markdown",
   "metadata": {},
   "source": [
    "## SVM model 불러와서 진단"
   ]
  },
  {
   "cell_type": "code",
   "execution_count": null,
   "metadata": {},
   "outputs": [],
   "source": [
    "SVM_model_from_joblib = joblib.load('./AI Model/SVM_model.plk')\n",
    "Prediction = SVM_model_from_joblib.predict(Validation_2)\n",
    "Diagnosis_Result = pd.DataFrame(Prediction)\n",
    "Diagnosis_Result"
   ]
  }
 ],
 "metadata": {
  "kernelspec": {
   "display_name": "Python 3",
   "language": "python",
   "name": "python3"
  },
  "language_info": {
   "codemirror_mode": {
    "name": "ipython",
    "version": 3
   },
   "file_extension": ".py",
   "mimetype": "text/x-python",
   "name": "python",
   "nbconvert_exporter": "python",
   "pygments_lexer": "ipython3",
   "version": "3.6.5"
  }
 },
 "nbformat": 4,
 "nbformat_minor": 2
}
